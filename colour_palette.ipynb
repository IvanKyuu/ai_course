{
 "cells": [
  {
   "cell_type": "code",
   "execution_count": 13,
   "metadata": {},
   "outputs": [],
   "source": [
    "from openai import OpenAI\n",
    "from dotenv import dotenv_values\n",
    "import json\n",
    "from IPython.display import display, HTML\n"
   ]
  },
  {
   "cell_type": "code",
   "execution_count": 21,
   "metadata": {},
   "outputs": [],
   "source": [
    "def display_colours(colours):\n",
    "    # Create HTML code for colored blocks\n",
    "    html_code = '<div style=\"display: flex;\">'\n",
    "    for color in colours:\n",
    "        html_code += f'<div style=\"background-color: {color}; width: 100px; height: 100px;\"></div>'\n",
    "    html_code += '</div>'\n",
    "\n",
    "    # Display the HTML\n",
    "    print(html_code)\n",
    "    display(HTML(html_code))"
   ]
  },
  {
   "cell_type": "markdown",
   "metadata": {},
   "source": [
    "### Main Logic"
   ]
  },
  {
   "cell_type": "code",
   "execution_count": 3,
   "metadata": {},
   "outputs": [],
   "source": [
    "def gpt_get_colours(text: str):\n",
    "    # prompt\n",
    "    message_lst = [\n",
    "        # system prompt\n",
    "        {\n",
    "            \"role\": \"system\",\n",
    "            \"content\": \"\"\"\n",
    "    Now you are a colour palette generator, and you should respond to text prompts.\n",
    "    I will give you one or two short sentences or phrases to describe the object,\n",
    "    in which I may specify the number of colours you should generate and I may add\n",
    "    more restrictions. Your should generate color palettes that fit the theme, mood, \n",
    "    or instructions in the prompt. You should generate between 2 to 8 colours \n",
    "    unless I tell you otherwise. You could check some websites like Pinterest or\n",
    "    U.S. brand colours, BrandColors, or wikipedia on Pantone colour chart. Give\n",
    "    the most official colour ever possible. You don\"t need to explain anything,\n",
    "    just give the output.\n",
    "    ## Desired format ##\n",
    "    - **output**: `<Json array of string>`\n",
    "    You need to return a Json array of string in Python, where each string is a\n",
    "    hexadecimal colour code for your chosen colour.\n",
    "\n",
    "    ## Examples ##\n",
    "    \"\"\",\n",
    "        },\n",
    "        # few shootings\n",
    "        {\n",
    "            \"role\": \"user\",\n",
    "            \"content\": \"\"\"\n",
    "        Mcdonald's sign colours\n",
    "        \"\"\",\n",
    "        },\n",
    "        {\n",
    "            \"role\": \"assistant\",\n",
    "            \"content\": '[\"#FFC72C\", \"#DA291C\"]',\n",
    "        },\n",
    "        {\n",
    "            \"role\": \"user\",\n",
    "            \"content\": \"\"\"\n",
    "        rainbow\n",
    "        \"\"\",\n",
    "        },\n",
    "        {\n",
    "            \"role\": \"assistant\",\n",
    "            \"content\": '[\"#FF0000\", \"#FF7F00\", \"#FFFF00\", \"#00FF00\", \"#0000FF\", \"#4B0082\", \"#9400D3\"]',\n",
    "        },\n",
    "        {\"role\": \"user\", \"content\": \"\"\"Now, Let us begin.\"\"\"},\n",
    "    ]\n",
    "    # invoke OpenAI client\n",
    "    api_key = dotenv_values(\".env\")[\"OPENAI_API_KEY\"]\n",
    "    client = OpenAI(api_key=api_key)\n",
    "    message_lst.append({\"role\": \"user\", \"content\": f\"{text}\"})\n",
    "    response = client.chat.completions.create(\n",
    "        messages=message_lst,\n",
    "        model=\"gpt-3.5-turbo-0125\",\n",
    "        max_tokens=200,\n",
    "    )\n",
    "    return response.choices[0].message.content"
   ]
  },
  {
   "cell_type": "markdown",
   "metadata": {},
   "source": [
    "### wrapper the func calls"
   ]
  },
  {
   "cell_type": "code",
   "execution_count": 23,
   "metadata": {},
   "outputs": [],
   "source": [
    "def get_and_render_colours(text: str):\n",
    "    colours = gpt_get_colours(f\"{text}\")\n",
    "    print(colours)\n",
    "    display_colours(json.loads(colours))\n",
    "    "
   ]
  },
  {
   "cell_type": "code",
   "execution_count": 26,
   "metadata": {},
   "outputs": [
    {
     "name": "stdout",
     "output_type": "stream",
     "text": [
      "[\"#F0E192\", \"#F1D894\", \"#F3C995\", \"#F4BB96\", \"#F6AD98\"]\n",
      "<div style=\"display: flex;\"><div style=\"background-color: #F0E192; width: 100px; height: 100px;\"></div><div style=\"background-color: #F1D894; width: 100px; height: 100px;\"></div><div style=\"background-color: #F3C995; width: 100px; height: 100px;\"></div><div style=\"background-color: #F4BB96; width: 100px; height: 100px;\"></div><div style=\"background-color: #F6AD98; width: 100px; height: 100px;\"></div></div>\n"
     ]
    },
    {
     "data": {
      "text/html": [
       "<div style=\"display: flex;\"><div style=\"background-color: #F0E192; width: 100px; height: 100px;\"></div><div style=\"background-color: #F1D894; width: 100px; height: 100px;\"></div><div style=\"background-color: #F3C995; width: 100px; height: 100px;\"></div><div style=\"background-color: #F4BB96; width: 100px; height: 100px;\"></div><div style=\"background-color: #F6AD98; width: 100px; height: 100px;\"></div></div>"
      ],
      "text/plain": [
       "<IPython.core.display.HTML object>"
      ]
     },
     "metadata": {},
     "output_type": "display_data"
    }
   ],
   "source": [
    "get_and_render_colours(\"阳光下的沙滩\")"
   ]
  }
 ],
 "metadata": {
  "kernelspec": {
   "display_name": "ai_course",
   "language": "python",
   "name": "python3"
  },
  "language_info": {
   "codemirror_mode": {
    "name": "ipython",
    "version": 3
   },
   "file_extension": ".py",
   "mimetype": "text/x-python",
   "name": "python",
   "nbconvert_exporter": "python",
   "pygments_lexer": "ipython3",
   "version": "3.12.3"
  }
 },
 "nbformat": 4,
 "nbformat_minor": 2
}
